{
 "cells": [
  {
   "cell_type": "code",
   "execution_count": 3,
   "metadata": {},
   "outputs": [],
   "source": [
    "import numpy as np\n",
    "import itertools\n",
    "import pandas as pd\n",
    "from Bio import SeqIO\n",
    "import seaborn as sns\n",
    "import matplotlib.pyplot as plt"
   ]
  },
  {
   "cell_type": "code",
   "execution_count": 135,
   "metadata": {},
   "outputs": [],
   "source": [
    "SOX9 = 'CAACAATGG'\n",
    "DEL_SEQ = 'CAATGGTCA'\n",
    "sequence_dict = SeqIO.to_dict(SeqIO.parse('data/en13_seq.fa', format='fasta'))\n",
    "seq = str(sequence_dict['chren13_WT'].seq)\n",
    "SOX_idx = seq.find(SOX9)\n",
    "SOX_end = SOX_idx + len(SOX9)\n",
    "\n",
    "\n",
    "def plot_histplot_with_labels(df, labels):\n",
    "    # Create a seaborn histplot with kde=True and stat=density\n",
    "    plt.figure(figsize=(8, 6))\n",
    "    fig = sns.histplot(data=df, x=df[3], kde=True, stat=\"density\")\n",
    "\n",
    "    colors2 = sns.color_palette('Set1')\n",
    "    percentile_98 = np.percentile(df[3], 98)\n",
    "    plt.axvline(percentile_98, color=colors2[len(labels)], linestyle='dashdot', linewidth=1, label=f'98 percentile')\n",
    "\n",
    "    # Iterate through each label in the list\n",
    "    for i in range(len(labels)):\n",
    "        label = labels[i]\n",
    "        # Find the location of the label in df[0]\n",
    "        label_index = df[df[0] == label].index[0]\n",
    "\n",
    "        # Get the corresponding value from df[3]\n",
    "        value = df.at[label_index, 3]\n",
    "\n",
    "\n",
    "        # Plot the label name above the bin\n",
    "        seq = label.replace('chr_','')\n",
    "        plt.annotate(seq, xy=(value + 0.174, 0.3), xytext=(value, 0.02), textcoords='offset points', ha='center', fontsize=10, color=colors2[i])\n",
    "        plt.axvline(value, color=colors2[i], linestyle='--', linewidth=1, label=seq)\n",
    "\n",
    "    # Show the plot\n",
    "    plt.xlabel('Binding Score')\n",
    "    plt.ylabel('Frequency')\n",
    "    plt.title('9-mers deepBind score distribution (enh13 SOX9)')\n",
    "    plt.legend()\n",
    "    plt.tight_layout()\n",
    "    plt.show()\n",
    "    # return fig\n",
    "\n"
   ]
  },
  {
   "cell_type": "markdown",
   "metadata": {},
   "source": [
    "# DeepBind SOX9 binding score distribution Experiment \n",
    "\n",
    "## Objective\n",
    "The objective of this experiment was to assess the SOX9 binding capability of all possible 9-mer sequences within enh13,  predicted by deepBind model.\n",
    "\n",
    "## Experimental Steps\n",
    "\n",
    "1. **Sequence Generation**: All possible 9-mer sequences, totaling 4^9 sequences, were generated.\n",
    "\n",
    "2. **Sequence Insertion**: These generated sequences were inserted into the SOX9 TFBS region of enhancer enh13.\n"
   ]
  },
  {
   "cell_type": "code",
   "execution_count": 80,
   "metadata": {},
   "outputs": [],
   "source": [
    "# Define the alphabet of letters\n",
    "letters = ['A', 'G', 'C', 'T']\n",
    "\n",
    "# Define the desired length of strings\n",
    "length = 9\n",
    "\n",
    "\n",
    "# Generate the fasta file for the experiment\n",
    "def generate_fasta(seq_series,seq):\n",
    "    subseq = ''.join(seq_series.tolist())\n",
    "    name = f\">chr_{subseq}\"\n",
    "    cur_seq = seq[:SOX_idx] + subseq + seq[SOX_idx + len(SOX9):]\n",
    "    return pd.Series([name,cur_seq])\n",
    "\n",
    "df = pd.DataFrame(itertools.product(letters, repeat=length))\n",
    "pd.Series(df.apply(lambda x: generate_fasta(x,seq), axis=1).to_numpy().flatten()).to_csv('data/enh13_XOS9_exp.fa', index=False, header=None)\n"
   ]
  },
  {
   "cell_type": "markdown",
   "metadata": {},
   "source": [
    "3. **BED file Generation**: A matching bed file was generated"
   ]
  },
  {
   "cell_type": "code",
   "execution_count": null,
   "metadata": {},
   "outputs": [],
   "source": [
    "\n",
    "def generate_BED(seq_series):\n",
    "    subseq = ''.join(seq_series.tolist())\n",
    "    name = f\"chr_{subseq}\"\n",
    "    return f\"{name}\\t{SOX_idx}\\t{SOX_end}\"\n",
    "    \n",
    "df.apply(lambda x: generate_BED(x), axis=1).to_csv('data/enh13_XOS9_exp.bed', index=False, header=None)\n",
    "\n"
   ]
  },
  {
   "cell_type": "markdown",
   "metadata": {},
   "source": [
    "\n",
    "4. **Model Prediction**: The deepBind model was utilized to predict the binding capability of SOX9 for each of the generated sequences.\n"
   ]
  },
  {
   "cell_type": "markdown",
   "metadata": {},
   "source": [
    "```bash\n",
    "conda activate kipoi-DeepBind\n",
    "bin/deepBind.sh data/enh13_XOS9_exp.bed data/enh13_XOS9_exp.fa DeepBind/Homo_sapiens/TF/D00649.002_SELEX_SOX9\n",
    "```"
   ]
  },
  {
   "cell_type": "code",
   "execution_count": 86,
   "metadata": {},
   "outputs": [
    {
     "data": {
      "text/html": [
       "<div>\n",
       "<style scoped>\n",
       "    .dataframe tbody tr th:only-of-type {\n",
       "        vertical-align: middle;\n",
       "    }\n",
       "\n",
       "    .dataframe tbody tr th {\n",
       "        vertical-align: top;\n",
       "    }\n",
       "\n",
       "    .dataframe thead th {\n",
       "        text-align: right;\n",
       "    }\n",
       "</style>\n",
       "<table border=\"1\" class=\"dataframe\">\n",
       "  <thead>\n",
       "    <tr style=\"text-align: right;\">\n",
       "      <th></th>\n",
       "      <th>0</th>\n",
       "      <th>1</th>\n",
       "      <th>2</th>\n",
       "      <th>3</th>\n",
       "    </tr>\n",
       "  </thead>\n",
       "  <tbody>\n",
       "    <tr>\n",
       "      <th>0</th>\n",
       "      <td>chr_AAAAAAAAA</td>\n",
       "      <td>150</td>\n",
       "      <td>159</td>\n",
       "      <td>0.678811</td>\n",
       "    </tr>\n",
       "    <tr>\n",
       "      <th>1</th>\n",
       "      <td>chr_AAAAAAAAG</td>\n",
       "      <td>150</td>\n",
       "      <td>159</td>\n",
       "      <td>0.575124</td>\n",
       "    </tr>\n",
       "    <tr>\n",
       "      <th>2</th>\n",
       "      <td>chr_AAAAAAAAC</td>\n",
       "      <td>150</td>\n",
       "      <td>159</td>\n",
       "      <td>0.577960</td>\n",
       "    </tr>\n",
       "    <tr>\n",
       "      <th>3</th>\n",
       "      <td>chr_AAAAAAAAT</td>\n",
       "      <td>150</td>\n",
       "      <td>159</td>\n",
       "      <td>0.575124</td>\n",
       "    </tr>\n",
       "    <tr>\n",
       "      <th>4</th>\n",
       "      <td>chr_AAAAAAAGA</td>\n",
       "      <td>150</td>\n",
       "      <td>159</td>\n",
       "      <td>0.575124</td>\n",
       "    </tr>\n",
       "  </tbody>\n",
       "</table>\n",
       "</div>"
      ],
      "text/plain": [
       "               0    1    2         3\n",
       "0  chr_AAAAAAAAA  150  159  0.678811\n",
       "1  chr_AAAAAAAAG  150  159  0.575124\n",
       "2  chr_AAAAAAAAC  150  159  0.577960\n",
       "3  chr_AAAAAAAAT  150  159  0.575124\n",
       "4  chr_AAAAAAAGA  150  159  0.575124"
      ]
     },
     "metadata": {},
     "output_type": "display_data"
    }
   ],
   "source": [
    "result= pd.read_csv('data/SOX9_enh13_XOS9_exp.tsv',sep='\\t', header=None)\n",
    "display(result.head())"
   ]
  },
  {
   "cell_type": "markdown",
   "metadata": {},
   "source": [
    "4. **Result Analysis**: The results obtained from the model prediction were analyzed, and a score distribution was plotted.\n"
   ]
  },
  {
   "cell_type": "code",
   "execution_count": 136,
   "metadata": {},
   "outputs": [
    {
     "data": {
      "image/png": "[encoded data removed]",
      "text/plain": [
       "<Figure size 576x432 with 1 Axes>"
      ]
     },
     "metadata": {
      "needs_background": "light"
     },
     "output_type": "display_data"
    }
   ],
   "source": [
    "\n",
    "plot_histplot_with_labels(result, [f'chr_{SOX9}',f'chr_{DEL_SEQ}'])"
   ]
  },
  {
   "cell_type": "markdown",
   "metadata": {},
   "source": [
    "**Vertical Lines**: Vertical lines were added to the plot at the following key points:\n",
    "   - Green - The 98th percentile of the model's score distribution.\n",
    "   - Red - The original sequence within enh13.\n",
    "   - Blue - A sequence with a 3bp deletion\n"
   ]
  }
 ],
 "metadata": {
  "kernelspec": {
   "display_name": "dev-venv",
   "language": "python",
   "name": "dev-venv"
  },
  "language_info": {
   "codemirror_mode": {
    "name": "ipython",
    "version": 3
   },
   "file_extension": ".py",
   "mimetype": "text/x-python",
   "name": "python",
   "nbconvert_exporter": "python",
   "pygments_lexer": "ipython3",
   "version": "3.7.3"
  },
  "orig_nbformat": 4
 },
 "nbformat": 4,
 "nbformat_minor": 2
}
